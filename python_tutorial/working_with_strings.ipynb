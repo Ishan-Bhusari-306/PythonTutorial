{
 "cells": [
  {
   "cell_type": "code",
   "execution_count": null,
   "id": "580febc2",
   "metadata": {},
   "outputs": [
    {
     "name": "stdout",
     "output_type": "stream",
     "text": [
      "hello world\n"
     ]
    }
   ],
   "source": [
    "# printing using print\n",
    "print(\"hello world\")"
   ]
  },
  {
   "cell_type": "code",
   "execution_count": 1,
   "id": "a0fa3bda",
   "metadata": {},
   "outputs": [
    {
     "name": "stdout",
     "output_type": "stream",
     "text": [
      "message\n"
     ]
    }
   ],
   "source": [
    "# creating a variable to hold a string\n",
    "message = \"hello world\"\n",
    "print(\"message\") "
   ]
  },
  {
   "cell_type": "code",
   "execution_count": null,
   "id": "d62d5029",
   "metadata": {},
   "outputs": [
    {
     "name": "stdout",
     "output_type": "stream",
     "text": [
      "Ishan's world\n"
     ]
    }
   ],
   "source": [
    "# ignoring quotes using \\  or use \" \" for strings\n",
    "print('Ishan\\'s world')"
   ]
  },
  {
   "cell_type": "code",
   "execution_count": null,
   "id": "8f0c77c6",
   "metadata": {},
   "outputs": [
    {
     "name": "stdout",
     "output_type": "stream",
     "text": [
      " \n",
      "      this is a multi line\n",
      "      string\n",
      "      \n"
     ]
    }
   ],
   "source": [
    "# creating multi line strings\n",
    "print(\"\"\" \n",
    "    this is a multi line\n",
    "    string\n",
    "    \"\"\")"
   ]
  },
  {
   "cell_type": "code",
   "execution_count": 4,
   "id": "d842b965",
   "metadata": {},
   "outputs": [
    {
     "name": "stdout",
     "output_type": "stream",
     "text": [
      "11\n"
     ]
    }
   ],
   "source": [
    "# to get the length of a string\n",
    "print(len(message))"
   ]
  },
  {
   "cell_type": "code",
   "execution_count": null,
   "id": "821a1d4a",
   "metadata": {},
   "outputs": [
    {
     "name": "stdout",
     "output_type": "stream",
     "text": [
      "h\n"
     ]
    }
   ],
   "source": [
    "# access characters of a string (0 index)\n",
    "print(message[0])"
   ]
  },
  {
   "cell_type": "code",
   "execution_count": 7,
   "id": "6fe6768f",
   "metadata": {},
   "outputs": [
    {
     "name": "stdout",
     "output_type": "stream",
     "text": [
      "hello\n"
     ]
    }
   ],
   "source": [
    "# access a range of characters [first index inclusive: last index not inclusive]\n",
    "print(message[0:5])"
   ]
  },
  {
   "cell_type": "code",
   "execution_count": 8,
   "id": "caa11355",
   "metadata": {},
   "outputs": [
    {
     "name": "stdout",
     "output_type": "stream",
     "text": [
      "hello\n"
     ]
    }
   ],
   "source": [
    "# lower case all characters in a string\n",
    "print(\"Hello\".lower())"
   ]
  },
  {
   "cell_type": "code",
   "execution_count": 9,
   "id": "d3fd2e43",
   "metadata": {},
   "outputs": [
    {
     "name": "stdout",
     "output_type": "stream",
     "text": [
      "HELLO\n"
     ]
    }
   ],
   "source": [
    "# upper case all characters in a string\n",
    "print(\"hello\".upper())"
   ]
  },
  {
   "cell_type": "code",
   "execution_count": 11,
   "id": "8789ae7d",
   "metadata": {},
   "outputs": [
    {
     "name": "stdout",
     "output_type": "stream",
     "text": [
      "3\n",
      "3\n"
     ]
    }
   ],
   "source": [
    "# return count of a character/word in a string\n",
    "print(\"hello world\".count('l'))\n",
    "print(\"hello hello hello le\".count(\"hello\"))"
   ]
  },
  {
   "cell_type": "code",
   "execution_count": 12,
   "id": "fb1d5dbf",
   "metadata": {},
   "outputs": [
    {
     "name": "stdout",
     "output_type": "stream",
     "text": [
      "2\n"
     ]
    }
   ],
   "source": [
    "# return the first index of character/word in a string\n",
    "print(\"hello\".find(\"l\"))"
   ]
  },
  {
   "cell_type": "code",
   "execution_count": null,
   "id": "8d4dd8d2",
   "metadata": {},
   "outputs": [],
   "source": []
  }
 ],
 "metadata": {
  "kernelspec": {
   "display_name": "Python 3",
   "language": "python",
   "name": "python3"
  },
  "language_info": {
   "codemirror_mode": {
    "name": "ipython",
    "version": 3
   },
   "file_extension": ".py",
   "mimetype": "text/x-python",
   "name": "python",
   "nbconvert_exporter": "python",
   "pygments_lexer": "ipython3",
   "version": "3.12.2"
  }
 },
 "nbformat": 4,
 "nbformat_minor": 5
}
